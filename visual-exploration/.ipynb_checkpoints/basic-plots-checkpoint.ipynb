{
 "cells": [
  {
   "cell_type": "markdown",
   "id": "75e1448b",
   "metadata": {},
   "source": [
    "# Basic Plots\n",
    "\n",
    "<h3> We'll be using the Kaggle Heart Disease UCI dataset as an example. You can find it here:</h3>\n",
    "\n",
    "https://www.kaggle.com/ronitf/heart-disease-uci\n",
    "This section isn't meant to be ground-breaking, but will introduce you to the common syntax used in pandas,\n",
    "matplotlib and seaborn."
   ]
  },
  {
   "cell_type": "code",
   "execution_count": null,
   "id": "51ec65d5",
   "metadata": {},
   "outputs": [],
   "source": []
  }
 ],
 "metadata": {
  "kernelspec": {
   "display_name": "Python 3 (ipykernel)",
   "language": "python",
   "name": "python3"
  },
  "language_info": {
   "codemirror_mode": {
    "name": "ipython",
    "version": 3
   },
   "file_extension": ".py",
   "mimetype": "text/x-python",
   "name": "python",
   "nbconvert_exporter": "python",
   "pygments_lexer": "ipython3",
   "version": "3.9.12"
  }
 },
 "nbformat": 4,
 "nbformat_minor": 5
}
